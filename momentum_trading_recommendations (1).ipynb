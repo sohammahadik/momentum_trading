{
 "cells": [
  {
   "cell_type": "markdown",
   "id": "0ef50bdc",
   "metadata": {},
   "source": [
    "This project is the beginning of my exploration into the field of algorithmic trading. I began by learning about the IEX Cloud API, which provides financial data. Since this was my first time, I used the IEX sandbox for free experimentation (with guidance from https://www.youtube.com/watch?v=xfzGZB4HhEE). \n",
    "\n",
    "I experiemented with momentum trading, a strategy which evaluates portfolio decisions based on fast growing stocks, with some analysis done to determine potential options with characteristics that could sustain this growth.\n",
    "\n",
    "We take a relatively technical approach, as we look at the returns over One-Year, Six-Months, Three-Months, and One-Month and calculate a score to find higher quality momentum stocks (one that have more consistent returns)."
   ]
  },
  {
   "cell_type": "code",
   "execution_count": 51,
   "id": "5b64aff2",
   "metadata": {},
   "outputs": [],
   "source": [
    "import numpy as np\n",
    "import pandas as pd\n",
    "from scipy import stats\n",
    "import math\n",
    "import requests"
   ]
  },
  {
   "cell_type": "code",
   "execution_count": 52,
   "id": "65f875fa",
   "metadata": {},
   "outputs": [],
   "source": [
    "# setting up IEX CLOUD API\n",
    "tickers = pd.read_csv('/Users/sohammahadik/Downloads/sp_500_stocks.csv')\n",
    "iexcloud_API = 'Tpk_059b97af715d417d9f49f50b51b1c448'\n",
    "symbol = 'MSFT'\n",
    "apiurl = f'https://sandbox.iexapis.com/stable/stock/{symbol}/stats?token={iexcloud_API}'\n",
    "symdata = requests.get(apiurl).json()"
   ]
  },
  {
   "cell_type": "code",
   "execution_count": 53,
   "id": "2d1ac3e9",
   "metadata": {},
   "outputs": [],
   "source": [
    "# divide stocks into groups for batch API calls\n",
    "def group(lst, n):\n",
    "    for i in range(0, len(lst), n):\n",
    "        yield lst[i:i+n]\n",
    "\n",
    "symgroups = list(group(tickers['Ticker'], 100))\n",
    "symstrings = []\n",
    "for i in range(0, len(symgroups)):\n",
    "    symstrings.append(','.join(symgroups[i]))"
   ]
  },
  {
   "cell_type": "code",
   "execution_count": 54,
   "id": "21aeddd9",
   "metadata": {},
   "outputs": [],
   "source": [
    "#populate dataframe with corresponding values/cols\n",
    "indepth_cols = [\n",
    "    'Ticker',\n",
    "    'Price',\n",
    "    'Number of Shares to Buy',\n",
    "    'One-Year Price Return',\n",
    "    'One-Year Return Percentile',\n",
    "    'Six-Month Price Return',\n",
    "    'Six-Month Return Percentile',\n",
    "    'Three-Month Price Return',\n",
    "    'Three-Month Return Percentile',\n",
    "    'One-Month Price Return',\n",
    "    'One-Month Return Percentile',\n",
    "    'Momentum Score'\n",
    "]\n",
    "\n",
    "indepth_df = pd.DataFrame(columns = indepth_cols)\n",
    "indepth_df\n",
    "\n",
    "for symstr in symstrings:\n",
    "    batchAPI = f'https://sandbox.iexapis.com/stable/stock/market/batch?symbols={symstr}&types=price,stats&token={iexcloud_API}'\n",
    "    data = requests.get(batchAPI).json()\n",
    "    for sym in symstr.split(','):\n",
    "        indepth_df = indepth_df.append(\n",
    "            pd.Series(\n",
    "            [\n",
    "                sym,\n",
    "                data[sym]['price'],\n",
    "                'N/A',\n",
    "                data[sym]['stats']['year1ChangePercent'],\n",
    "                'N/A',\n",
    "                data[sym]['stats']['month6ChangePercent'],\n",
    "                'N/A',\n",
    "                data[sym]['stats']['month3ChangePercent'],\n",
    "                'N/A',\n",
    "                data[sym]['stats']['month1ChangePercent'],\n",
    "                'N/A',\n",
    "                'N/A'\n",
    "            ], \n",
    "            index = indepth_cols,\n",
    "            ),\n",
    "            ignore_index = True\n",
    "        )"
   ]
  },
  {
   "cell_type": "code",
   "execution_count": 55,
   "id": "21e3c8e9",
   "metadata": {},
   "outputs": [],
   "source": [
    "# Calculate overall percentiles of all stocks by interval Price returns\n",
    "intervals = [\n",
    "    'One-Year',\n",
    "    'Six-Month',\n",
    "    'Three-Month',\n",
    "    'One-Month'\n",
    "]\n",
    "\n",
    "for r in indepth_df.index:\n",
    "    for interval in intervals:\n",
    "        delta = f'{interval} Price Return'\n",
    "        percent = f'{interval} Return Percentile'\n",
    "        if indepth_df.loc[r, delta] == None:\n",
    "            indepth_df.loc[r, delta] = 0.0\n",
    "\n",
    "for r in indepth_df.index:\n",
    "    for interval in intervals:\n",
    "        delta = f'{interval} Price Return'\n",
    "        percent = f'{interval} Return Percentile'\n",
    "        indepth_df.loc[r, percent] = stats.percentileofscore(indepth_df[delta], indepth_df.loc[r, delta]) "
   ]
  },
  {
   "cell_type": "code",
   "execution_count": 56,
   "id": "a4fb6eac",
   "metadata": {
    "scrolled": true
   },
   "outputs": [],
   "source": [
    "# calulate momentum score by taking mean of return percentiles\n",
    "from statistics import mean\n",
    "\n",
    "for r in indepth_df.index:\n",
    "    momPercent = []\n",
    "    for interval in intervals:\n",
    "        momPercent.append(indepth_df.loc[r, f'{interval} Return Percentile'])\n",
    "    indepth_df.loc[r, 'Momentum Score'] = mean(momPercent)"
   ]
  },
  {
   "cell_type": "code",
   "execution_count": 57,
   "id": "c9fa2fa2",
   "metadata": {},
   "outputs": [],
   "source": [
    "# Take top 50 momentum scores\n",
    "indepth_df.sort_values('Momentum Score', ascending=False, inplace=True)\n",
    "indepth_df = indepth_df[:50]\n",
    "indepth_df.reset_index(inplace=True, drop=True)"
   ]
  },
  {
   "cell_type": "code",
   "execution_count": null,
   "id": "bfb1844b",
   "metadata": {},
   "outputs": [],
   "source": [
    "def set_size():\n",
    "    global size\n",
    "    size = input(\"Input the asset size your portfolio:\")\n",
    "    try:\n",
    "        val = float(size)\n",
    "    except ValueError:\n",
    "        print(\"Please imput a number:\")\n",
    "        portfolio_size = input(\"Input the asset size your portfolio:\")\n",
    "\n",
    "set_size()"
   ]
  },
  {
   "cell_type": "code",
   "execution_count": null,
   "id": "2b4e6b28",
   "metadata": {},
   "outputs": [],
   "source": [
    "\n",
    "posSize = float(size)/len(indepth_df.index)\n",
    "for i in indepth_df.index:\n",
    "    indepth_df.loc[i, 'Number of Shares to Buy'] = math.floor(posSize/indepth_df.loc[i, 'Price'])\n",
    "    \n",
    "indepth_df"
   ]
  },
  {
   "cell_type": "code",
   "execution_count": null,
   "id": "4263bf47",
   "metadata": {},
   "outputs": [],
   "source": []
  }
 ],
 "metadata": {
  "kernelspec": {
   "display_name": "Python 3",
   "language": "python",
   "name": "python3"
  },
  "language_info": {
   "codemirror_mode": {
    "name": "ipython",
    "version": 3
   },
   "file_extension": ".py",
   "mimetype": "text/x-python",
   "name": "python",
   "nbconvert_exporter": "python",
   "pygments_lexer": "ipython3",
   "version": "3.8.8"
  }
 },
 "nbformat": 4,
 "nbformat_minor": 5
}
